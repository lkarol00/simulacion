{
 "cells": [
  {
   "cell_type": "code",
   "execution_count": 1,
   "metadata": {},
   "outputs": [],
   "source": [
    "import numpy as np"
   ]
  },
  {
   "cell_type": "code",
   "execution_count": 2,
   "metadata": {},
   "outputs": [
    {
     "name": "stdout",
     "output_type": "stream",
     "text": [
      "(12330, 18)\n",
      "   Administrative  Administrative_Duration  Informational  \\\n",
      "0               0                      0.0              0   \n",
      "1               0                      0.0              0   \n",
      "2               0                      0.0              0   \n",
      "3               0                      0.0              0   \n",
      "4               0                      0.0              0   \n",
      "5               0                      0.0              0   \n",
      "6               0                      0.0              0   \n",
      "7               1                      0.0              0   \n",
      "8               0                      0.0              0   \n",
      "9               0                      0.0              0   \n",
      "\n",
      "   Informational_Duration  ProductRelated  ProductRelated_Duration  \\\n",
      "0                     0.0               1                 0.000000   \n",
      "1                     0.0               2                64.000000   \n",
      "2                     0.0               1                 0.000000   \n",
      "3                     0.0               2                 2.666667   \n",
      "4                     0.0              10               627.500000   \n",
      "5                     0.0              19               154.216667   \n",
      "6                     0.0               1                 0.000000   \n",
      "7                     0.0               0                 0.000000   \n",
      "8                     0.0               2                37.000000   \n",
      "9                     0.0               3               738.000000   \n",
      "\n",
      "   BounceRates  ExitRates  PageValues  SpecialDay Month  OperatingSystems  \\\n",
      "0     0.200000   0.200000         0.0         0.0   Feb                 1   \n",
      "1     0.000000   0.100000         0.0         0.0   Feb                 2   \n",
      "2     0.200000   0.200000         0.0         0.0   Feb                 4   \n",
      "3     0.050000   0.140000         0.0         0.0   Feb                 3   \n",
      "4     0.020000   0.050000         0.0         0.0   Feb                 3   \n",
      "5     0.015789   0.024561         0.0         0.0   Feb                 2   \n",
      "6     0.200000   0.200000         0.0         0.4   Feb                 2   \n",
      "7     0.200000   0.200000         0.0         0.0   Feb                 1   \n",
      "8     0.000000   0.100000         0.0         0.8   Feb                 2   \n",
      "9     0.000000   0.022222         0.0         0.4   Feb                 2   \n",
      "\n",
      "   Browser  Region  TrafficType        VisitorType  Weekend  Revenue  \n",
      "0        1       1            1  Returning_Visitor    False    False  \n",
      "1        2       1            2  Returning_Visitor    False    False  \n",
      "2        1       9            3  Returning_Visitor    False    False  \n",
      "3        2       2            4  Returning_Visitor    False    False  \n",
      "4        3       1            4  Returning_Visitor     True    False  \n",
      "5        2       1            3  Returning_Visitor    False    False  \n",
      "6        4       3            3  Returning_Visitor    False    False  \n",
      "7        2       1            5  Returning_Visitor     True    False  \n",
      "8        2       2            3  Returning_Visitor    False    False  \n",
      "9        4       1            2  Returning_Visitor    False    False  \n"
     ]
    }
   ],
   "source": [
    "import pandas\n",
    "filename = 'online_shoppers_intention.csv'\n",
    "data = pandas.read_csv(filename, header=0)\n",
    "\n",
    "print(data.shape)\n",
    "print (data.head(10))"
   ]
  },
  {
   "cell_type": "code",
   "execution_count": 3,
   "metadata": {
    "scrolled": true
   },
   "outputs": [
    {
     "data": {
      "text/plain": [
       "Administrative               int64\n",
       "Administrative_Duration    float64\n",
       "Informational                int64\n",
       "Informational_Duration     float64\n",
       "ProductRelated               int64\n",
       "ProductRelated_Duration    float64\n",
       "BounceRates                float64\n",
       "ExitRates                  float64\n",
       "PageValues                 float64\n",
       "SpecialDay                 float64\n",
       "Month                       object\n",
       "OperatingSystems             int64\n",
       "Browser                      int64\n",
       "Region                       int64\n",
       "TrafficType                  int64\n",
       "VisitorType                 object\n",
       "Weekend                       bool\n",
       "Revenue                       bool\n",
       "dtype: object"
      ]
     },
     "execution_count": 3,
     "metadata": {},
     "output_type": "execute_result"
    }
   ],
   "source": [
    "data.dtypes"
   ]
  },
  {
   "cell_type": "code",
   "execution_count": 4,
   "metadata": {},
   "outputs": [
    {
     "data": {
      "text/plain": [
       "False    9462\n",
       "True     2868\n",
       "Name: Weekend, dtype: int64"
      ]
     },
     "execution_count": 4,
     "metadata": {},
     "output_type": "execute_result"
    }
   ],
   "source": [
    "data['Weekend'].value_counts()"
   ]
  },
  {
   "cell_type": "code",
   "execution_count": 5,
   "metadata": {},
   "outputs": [
    {
     "data": {
      "text/plain": [
       "False    10422\n",
       "True      1908\n",
       "Name: Revenue, dtype: int64"
      ]
     },
     "execution_count": 5,
     "metadata": {},
     "output_type": "execute_result"
    }
   ],
   "source": [
    "data['Revenue'].value_counts()"
   ]
  },
  {
   "cell_type": "code",
   "execution_count": 6,
   "metadata": {},
   "outputs": [
    {
     "data": {
      "text/plain": [
       "May     3364\n",
       "Nov     2998\n",
       "Mar     1907\n",
       "Dec     1727\n",
       "Oct      549\n",
       "Sep      448\n",
       "Aug      433\n",
       "Jul      432\n",
       "June     288\n",
       "Feb      184\n",
       "Name: Month, dtype: int64"
      ]
     },
     "execution_count": 6,
     "metadata": {},
     "output_type": "execute_result"
    }
   ],
   "source": [
    "data['Month'].value_counts()"
   ]
  },
  {
   "cell_type": "code",
   "execution_count": 7,
   "metadata": {
    "scrolled": true
   },
   "outputs": [
    {
     "data": {
      "text/plain": [
       "Returning_Visitor    10551\n",
       "New_Visitor           1694\n",
       "Other                   85\n",
       "Name: VisitorType, dtype: int64"
      ]
     },
     "execution_count": 7,
     "metadata": {},
     "output_type": "execute_result"
    }
   ],
   "source": [
    "data['VisitorType'].value_counts()"
   ]
  },
  {
   "cell_type": "code",
   "execution_count": 8,
   "metadata": {
    "scrolled": true
   },
   "outputs": [
    {
     "data": {
      "text/plain": [
       "Administrative             0\n",
       "Administrative_Duration    0\n",
       "Informational              0\n",
       "Informational_Duration     0\n",
       "ProductRelated             0\n",
       "ProductRelated_Duration    0\n",
       "BounceRates                0\n",
       "ExitRates                  0\n",
       "PageValues                 0\n",
       "SpecialDay                 0\n",
       "Month                      0\n",
       "OperatingSystems           0\n",
       "Browser                    0\n",
       "Region                     0\n",
       "TrafficType                0\n",
       "VisitorType                0\n",
       "Weekend                    0\n",
       "Revenue                    0\n",
       "dtype: int64"
      ]
     },
     "execution_count": 8,
     "metadata": {},
     "output_type": "execute_result"
    }
   ],
   "source": [
    "data.isnull().sum()"
   ]
  },
  {
   "cell_type": "code",
   "execution_count": 9,
   "metadata": {},
   "outputs": [],
   "source": [
    "data[\"Weekend\"] = data[\"Weekend\"].astype(int)"
   ]
  },
  {
   "cell_type": "code",
   "execution_count": 10,
   "metadata": {},
   "outputs": [
    {
     "data": {
      "text/plain": [
       "0    9462\n",
       "1    2868\n",
       "Name: Weekend, dtype: int64"
      ]
     },
     "execution_count": 10,
     "metadata": {},
     "output_type": "execute_result"
    }
   ],
   "source": [
    "data['Weekend'].value_counts()"
   ]
  },
  {
   "cell_type": "code",
   "execution_count": 11,
   "metadata": {},
   "outputs": [],
   "source": [
    "data['Revenue'] = data[\"Revenue\"].astype(int)"
   ]
  },
  {
   "cell_type": "code",
   "execution_count": 12,
   "metadata": {},
   "outputs": [
    {
     "data": {
      "text/plain": [
       "0    10422\n",
       "1     1908\n",
       "Name: Revenue, dtype: int64"
      ]
     },
     "execution_count": 12,
     "metadata": {},
     "output_type": "execute_result"
    }
   ],
   "source": [
    "data['Revenue'].value_counts()"
   ]
  },
  {
   "cell_type": "code",
   "execution_count": 13,
   "metadata": {},
   "outputs": [],
   "source": [
    "data['Month'] = data['Month'].astype('str')"
   ]
  },
  {
   "cell_type": "code",
   "execution_count": 14,
   "metadata": {},
   "outputs": [],
   "source": [
    "data['Month'] = np.where(data['Month']==\"Feb\", 0, data['Month'])\n",
    "data['Month'] = np.where(data['Month']==\"Mar\", 1, data['Month'])\n",
    "data['Month'] = np.where(data['Month']==\"May\", 2, data['Month'])\n",
    "data['Month'] = np.where(data['Month']==\"June\", 3, data['Month'])\n",
    "data['Month'] = np.where(data['Month']==\"Jul\", 4, data['Month'])\n",
    "data['Month'] = np.where(data['Month']==\"Aug\", 5, data['Month'])\n",
    "data['Month'] = np.where(data['Month']==\"Sep\", 6, data['Month'])\n",
    "data['Month'] = np.where(data['Month']==\"Oct\", 7, data['Month'])\n",
    "data['Month'] = np.where(data['Month']==\"Nov\", 8, data['Month'])\n",
    "data['Month'] = np.where(data['Month']==\"Dec\", 9, data['Month'])\n",
    "    "
   ]
  },
  {
   "cell_type": "code",
   "execution_count": 15,
   "metadata": {},
   "outputs": [
    {
     "data": {
      "text/plain": [
       "2    3364\n",
       "8    2998\n",
       "1    1907\n",
       "9    1727\n",
       "7     549\n",
       "6     448\n",
       "5     433\n",
       "4     432\n",
       "3     288\n",
       "0     184\n",
       "Name: Month, dtype: int64"
      ]
     },
     "execution_count": 15,
     "metadata": {},
     "output_type": "execute_result"
    }
   ],
   "source": [
    "data['Month'].value_counts()"
   ]
  },
  {
   "cell_type": "code",
   "execution_count": 16,
   "metadata": {},
   "outputs": [],
   "source": [
    "data['VisitorType'] = np.where(data['VisitorType']==\"Returning_Visitor\", 0, data['VisitorType'])\n",
    "data['VisitorType'] = np.where(data['VisitorType']==\"New_Visitor\", 1, data['VisitorType'])\n",
    "data['VisitorType'] = np.where(data['VisitorType']==\"Other\", 2, data['VisitorType'])"
   ]
  },
  {
   "cell_type": "code",
   "execution_count": 17,
   "metadata": {},
   "outputs": [
    {
     "data": {
      "text/plain": [
       "0    10551\n",
       "1     1694\n",
       "2       85\n",
       "Name: VisitorType, dtype: int64"
      ]
     },
     "execution_count": 17,
     "metadata": {},
     "output_type": "execute_result"
    }
   ],
   "source": [
    "data['VisitorType'].value_counts()"
   ]
  },
  {
   "cell_type": "code",
   "execution_count": 18,
   "metadata": {},
   "outputs": [
    {
     "name": "stdout",
     "output_type": "stream",
     "text": [
      "   Administrative  Administrative_Duration  Informational  \\\n",
      "0               0                      0.0              0   \n",
      "1               0                      0.0              0   \n",
      "2               0                      0.0              0   \n",
      "3               0                      0.0              0   \n",
      "4               0                      0.0              0   \n",
      "5               0                      0.0              0   \n",
      "6               0                      0.0              0   \n",
      "7               1                      0.0              0   \n",
      "8               0                      0.0              0   \n",
      "9               0                      0.0              0   \n",
      "\n",
      "   Informational_Duration  ProductRelated  ProductRelated_Duration  \\\n",
      "0                     0.0               1                 0.000000   \n",
      "1                     0.0               2                64.000000   \n",
      "2                     0.0               1                 0.000000   \n",
      "3                     0.0               2                 2.666667   \n",
      "4                     0.0              10               627.500000   \n",
      "5                     0.0              19               154.216667   \n",
      "6                     0.0               1                 0.000000   \n",
      "7                     0.0               0                 0.000000   \n",
      "8                     0.0               2                37.000000   \n",
      "9                     0.0               3               738.000000   \n",
      "\n",
      "   BounceRates  ExitRates  PageValues  SpecialDay Month  OperatingSystems  \\\n",
      "0     0.200000   0.200000         0.0         0.0     0                 1   \n",
      "1     0.000000   0.100000         0.0         0.0     0                 2   \n",
      "2     0.200000   0.200000         0.0         0.0     0                 4   \n",
      "3     0.050000   0.140000         0.0         0.0     0                 3   \n",
      "4     0.020000   0.050000         0.0         0.0     0                 3   \n",
      "5     0.015789   0.024561         0.0         0.0     0                 2   \n",
      "6     0.200000   0.200000         0.0         0.4     0                 2   \n",
      "7     0.200000   0.200000         0.0         0.0     0                 1   \n",
      "8     0.000000   0.100000         0.0         0.8     0                 2   \n",
      "9     0.000000   0.022222         0.0         0.4     0                 2   \n",
      "\n",
      "   Browser  Region  TrafficType VisitorType  Weekend  Revenue  \n",
      "0        1       1            1           0        0        0  \n",
      "1        2       1            2           0        0        0  \n",
      "2        1       9            3           0        0        0  \n",
      "3        2       2            4           0        0        0  \n",
      "4        3       1            4           0        1        0  \n",
      "5        2       1            3           0        0        0  \n",
      "6        4       3            3           0        0        0  \n",
      "7        2       1            5           0        1        0  \n",
      "8        2       2            3           0        0        0  \n",
      "9        4       1            2           0        0        0  \n"
     ]
    }
   ],
   "source": [
    "print (data.head(10))"
   ]
  },
  {
   "cell_type": "code",
   "execution_count": 19,
   "metadata": {},
   "outputs": [],
   "source": [
    "data['Month'] = data['Month'].astype('int')"
   ]
  },
  {
   "cell_type": "code",
   "execution_count": 20,
   "metadata": {},
   "outputs": [],
   "source": [
    "data['VisitorType'] = data['VisitorType'].astype('str').astype('int')"
   ]
  },
  {
   "cell_type": "code",
   "execution_count": 22,
   "metadata": {},
   "outputs": [
    {
     "data": {
      "text/plain": [
       "Administrative               int64\n",
       "Administrative_Duration    float64\n",
       "Informational                int64\n",
       "Informational_Duration     float64\n",
       "ProductRelated               int64\n",
       "ProductRelated_Duration    float64\n",
       "BounceRates                float64\n",
       "ExitRates                  float64\n",
       "PageValues                 float64\n",
       "SpecialDay                 float64\n",
       "Month                        int32\n",
       "OperatingSystems             int64\n",
       "Browser                      int64\n",
       "Region                       int64\n",
       "TrafficType                  int64\n",
       "VisitorType                  int32\n",
       "Weekend                      int32\n",
       "Revenue                      int32\n",
       "dtype: object"
      ]
     },
     "execution_count": 22,
     "metadata": {},
     "output_type": "execute_result"
    }
   ],
   "source": [
    "data.dtypes"
   ]
  },
  {
   "cell_type": "code",
   "execution_count": null,
   "metadata": {},
   "outputs": [],
   "source": []
  }
 ],
 "metadata": {
  "kernelspec": {
   "display_name": "Python 3",
   "language": "python",
   "name": "python3"
  },
  "language_info": {
   "codemirror_mode": {
    "name": "ipython",
    "version": 3
   },
   "file_extension": ".py",
   "mimetype": "text/x-python",
   "name": "python",
   "nbconvert_exporter": "python",
   "pygments_lexer": "ipython3",
   "version": "3.7.3"
  }
 },
 "nbformat": 4,
 "nbformat_minor": 4
}
